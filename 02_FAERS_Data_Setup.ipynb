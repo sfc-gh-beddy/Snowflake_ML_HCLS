{
 "cells": [
  {
   "cell_type": "markdown",
   "metadata": {
    "vscode": {
     "languageId": "raw"
    }
   },
   "source": [
    "# \ud83d\udcca Snowflake ML Demo: FAERS Data Setup\n",
    "\n",
    "This notebook creates the FDA Adverse Event Reporting System (FAERS) data structures and loads sample data for our ML demo.\n",
    "\n",
    "## \ud83c\udfaf What is FAERS?\n",
    "FAERS is the FDA's database for collecting adverse event reports, medication errors, and product quality complaints for drugs and therapeutic biologic products.\n",
    "\n",
    "## \ud83d\udccb What We're Creating\n",
    "- **FAERS_ADVERSE_EVENTS**: Patient and event information\n",
    "- **FAERS_DRUGS**: Drug information for each case\n",
    "- **FAERS_REACTIONS**: Adverse reaction terms\n",
    "- **FAERS_OUTCOMES**: Event outcomes (death, hospitalization, etc.)\n",
    "- **FAERS_OUTCOME_CODES**: Reference table for outcome descriptions\n",
    "\n",
    "## \ud83d\udd17 Data Source\n",
    "Real FAERS data: https://fis.fda.gov/extensions/FPD-QDE-FAERS/FPD-QDE-FAERS.html\n"
   ]
  },
  {
   "cell_type": "code",
   "execution_count": null,
   "metadata": {},
   "outputs": [],
   "source": [
    "# \ud83d\udd17 Establish Snowflake Connection\n",
    "print(\"\ud83d\udd17 Connecting to Snowflake...\")\n",
    "\n",
    "# Import required libraries\n",
    "from snowflake_connection import get_session\n",
    "import os\n",
    "from dotenv import load_dotenv\n",
    "\n",
    "# Load environment variables\n",
    "load_dotenv()\n",
    "\n",
    "# Create Snowpark session\n",
    "session = get_session()\n",
    "\n",
    "if session:\n",
    "    print(\"\u2705 Connected to Snowflake successfully!\")\n",
    "    \n",
    "    # Set context for FAERS data setup\n",
    "    print(\"\ud83d\udcca Setting context for FAERS data...\")\n",
    "    session.sql(\"USE DATABASE ADVERSE_EVENT_MONITORING\").collect()\n",
    "    session.sql(\"USE SCHEMA FDA_FAERS\").collect() \n",
    "    session.sql(\"USE WAREHOUSE ADVERSE_EVENT_WH\").collect()\n",
    "    print(\"\u2705 Context set successfully!\")\n",
    "else:\n",
    "    print(\"\u274c Failed to connect to Snowflake!\")\n",
    "    print(\"   Please check your .env file configuration\")\n",
    "    raise Exception(\"Snowflake connection failed\")\n"
   ]
  },
  {
   "cell_type": "code",
   "execution_count": null,
   "metadata": {
    "vscode": {
     "languageId": "sql"
    }
   },
   "outputs": [],
   "source": [
    "# \u2705 Context already set in previous cell\n",
    "print(\"\ud83d\udcca Ready to create FAERS data structures...\")\n"
   ]
  },
  {
   "cell_type": "code",
   "execution_count": null,
   "metadata": {
    "vscode": {
     "languageId": "sql"
    }
   },
   "outputs": [],
   "source": [
    "-- -- Create FAERS Adverse Events table\n",
    "-- CREATE OR REPLACE TABLE FAERS_ADVERSE_EVENTS (\n",
    "--     PRIMARYID VARCHAR,\n",
    "--     CASEID VARCHAR,\n",
    "--     CASEVERSION VARCHAR,\n",
    "--     I_F_CODE VARCHAR,\n",
    "--     EVENT_DT VARCHAR,\n",
    "--     MFR_DT VARCHAR,\n",
    "--     INIT_FDA_DT VARCHAR,\n",
    "--     FDA_DT VARCHAR,\n",
    "--     REPT_COD VARCHAR,\n",
    "--     AUTH_NUM VARCHAR,\n",
    "--     MFR_NUM VARCHAR,\n",
    "--     MFR_SNDR VARCHAR,\n",
    "--     LIT_REF STRING,\n",
    "--     AGE VARCHAR,\n",
    "--     AGE_COD VARCHAR,\n",
    "--     AGE_GRP VARCHAR,\n",
    "--     SEX VARCHAR,\n",
    "--     E_SUB VARCHAR,\n",
    "--     WT VARCHAR,\n",
    "--     WT_COD VARCHAR,\n",
    "--     REPT_DT VARCHAR,\n",
    "--     TO_MFR VARCHAR,\n",
    "--     OCCP_COD VARCHAR,\n",
    "--     REPORTER_COUNTRY VARCHAR,\n",
    "--     OCCR_COUNTRY VARCHAR\n",
    "-- );\n"
   ]
  },
  {
   "cell_type": "code",
   "execution_count": null,
   "metadata": {
    "vscode": {
     "languageId": "sql"
    }
   },
   "outputs": [],
   "source": [
    "-- -- Create FAERS Drugs table\n",
    "-- CREATE OR REPLACE TABLE FAERS_DRUGS (\n",
    "--     PRIMARYID VARCHAR,\n",
    "--     CASEID VARCHAR,\n",
    "--     DRUG_SEQ VARCHAR,\n",
    "--     ROLE_COD VARCHAR,\n",
    "--     DRUGNAME STRING,\n",
    "--     PROD_AI STRING,\n",
    "--     VAL_VBM VARCHAR,\n",
    "--     ROUTE VARCHAR,\n",
    "--     DOSE_VBM VARCHAR,\n",
    "--     CUM_DOSE_CHR VARCHAR,\n",
    "--     CUM_DOSE_UNIT VARCHAR,\n",
    "--     DECHAL VARCHAR,\n",
    "--     RECHAL VARCHAR,\n",
    "--     LOT_NUM VARCHAR,\n",
    "--     EXP_DT VARCHAR,\n",
    "--     NDA_NUM VARCHAR,\n",
    "--     DOSE_AMT VARCHAR,\n",
    "--     DOSE_UNIT VARCHAR,\n",
    "--     DOSE_FORM VARCHAR,\n",
    "--     DOSE_FREQ VARCHAR\n",
    "-- );\n"
   ]
  },
  {
   "cell_type": "code",
   "execution_count": null,
   "metadata": {
    "vscode": {
     "languageId": "sql"
    }
   },
   "outputs": [],
   "source": [
    "-- -- Create FAERS Reactions and Outcomes tables\n",
    "-- CREATE IF NOT EXISTS TABLE FAERS_REACTIONS (\n",
    "--     PRIMARYID VARCHAR,\n",
    "--     CASEID VARCHAR,\n",
    "--     PT STRING,\n",
    "--     DRUG_REC_ACT STRING\n",
    "-- );\n",
    "\n",
    "-- CREATE IF NOT EXISTS TABLE FAERS_OUTCOMES (\n",
    "--     PRIMARYID VARCHAR,\n",
    "--     CASEID VARCHAR,\n",
    "--     OUTC_COD VARCHAR\n",
    "-- );\n"
   ]
  },
  {
   "cell_type": "code",
   "execution_count": null,
   "metadata": {
    "vscode": {
     "languageId": "sql"
    }
   },
   "outputs": [],
   "source": [
    "-- -- Create reference table for outcome codes\n",
    "-- CREATE IF NOT EXISTS TABLE FAERS_OUTCOME_CODES (\n",
    "--     outc_cod VARCHAR(10),\n",
    "--     outcome_description VARCHAR(100)\n",
    "-- );\n",
    "\n",
    "-- -- Insert outcome code mappings\n",
    "-- INSERT INTO FAERS_OUTCOME_CODES VALUES\n",
    "-- ('DE', 'Death'),\n",
    "-- ('LT', 'Life-Threatening'),\n",
    "-- ('HO', 'Hospitalization - Initial or Prolonged'),\n",
    "-- ('DS', 'Disability'),\n",
    "-- ('CA', 'Congenital Anomaly'),\n",
    "-- ('RI', 'Required Intervention to Prevent Permanent Impairment/Damage'),\n",
    "-- ('OT', 'Other Serious (Important Medical Event)');\n"
   ]
  },
  {
   "cell_type": "code",
   "execution_count": null,
   "metadata": {
    "vscode": {
     "languageId": "sql"
    }
   },
   "outputs": [],
   "source": [
    "-- -- Create file format for FAERS CSV files\n",
    "-- CREATE IF NOT EXISTS FILE FORMAT FAERS_FILE_FORMAT\n",
    "--     TYPE = 'CSV'\n",
    "--     FIELD_DELIMITER = '$'\n",
    "--     SKIP_HEADER = 1\n",
    "--     FIELD_OPTIONALLY_ENCLOSED_BY = NONE\n",
    "--     ENCODING = 'UTF8'\n",
    "--     TRIM_SPACE = TRUE\n",
    "--     EMPTY_FIELD_AS_NULL = TRUE;\n",
    "\n",
    "-- -- Create internal stage for FAERS data\n",
    "-- CREATE STAGE IF NOT EXISTS FAERS_STAGE;\n"
   ]
  },
  {
   "cell_type": "markdown",
   "metadata": {
    "vscode": {
     "languageId": "raw"
    }
   },
   "source": [
    "## \ud83d\udce5 Data Loading\n",
    "\n",
    "### Load Real FAERS Data\n",
    "1. Download FAERS quarterly data from [FDA website](https://fis.fda.gov/extensions/FPD-QDE-FAERS/FPD-QDE-FAERS.html)\n",
    "2. Upload files to `@FAERS_STAGE` using in Snowflake UI\n",
    "3. Use COPY INTO commands to load data into tables created\n",
    "\n"
   ]
  },
  {
   "cell_type": "code",
   "execution_count": null,
   "metadata": {},
   "outputs": [],
   "source": [
    "# \ud83d\udcca Explore the data: High-risk drug analysis\n",
    "print(\"\ud83d\udd0d Analyzing high-risk drugs with serious adverse events...\")\n",
    "\n",
    "high_risk_analysis = session.sql(\"\"\"\n",
    "    SELECT \n",
    "        d.DRUGNAME,\n",
    "        COUNT(DISTINCT o.CASEID) as serious_ae_cases,\n",
    "        LISTAGG(DISTINCT oc.outcome_description, ', ') as outcome_types\n",
    "    FROM FAERS_DRUGS d\n",
    "    JOIN FAERS_OUTCOMES o ON d.CASEID = o.CASEID\n",
    "    JOIN FAERS_OUTCOME_CODES oc ON o.OUTC_COD = oc.outc_cod\n",
    "    WHERE o.OUTC_COD IN ('DE', 'LT', 'HO')  -- Death, Life-threatening, Hospitalization\n",
    "    GROUP BY d.DRUGNAME\n",
    "    ORDER BY serious_ae_cases DESC\n",
    "\"\"\").collect()\n",
    "\n",
    "# Display results\n",
    "print(\"\\n\ud83d\udccb High-risk drugs with serious adverse events:\")\n",
    "for row in high_risk_analysis:\n",
    "    print(f\"   \ud83d\udd38 {row[0]}: {row[1]} cases - {row[2]}\")\n",
    "\n",
    "print(f\"\\n\u2705 Analysis complete! Found {len(high_risk_analysis)} drugs with serious adverse events.\")"
   ]
  },
  {
   "cell_type": "markdown",
   "metadata": {
    "vscode": {
     "languageId": "raw"
    }
   },
   "source": [
    "## \u2705 FAERS Data Setup Complete!\n",
    "\n",
    "Your FAERS database is now ready with:\n",
    "\n",
    "- \u2705 **5 Adverse Event cases** with patient demographics\n",
    "- \u2705 **6 Drug records** with common medications\n",
    "- \u2705 **10 Adverse reactions** linked to cases\n",
    "- \u2705 **5 Outcome records** showing severity levels\n",
    "- \u2705 **7 Outcome code** descriptions for reference\n",
    "\n",
    "## \ud83c\udfaf Key Insights from Sample Data\n",
    "- **Warfarin** appears in life-threatening cases\n",
    "- **Hospitalization** is the most common serious outcome\n",
    "- Multiple drugs per patient create complex interaction scenarios\n",
    "\n",
    "## \ud83d\udccb Next Steps\n",
    "1. Create analytics tables with **03_Analytics_Tables_Setup**\n",
    "2. Begin feature engineering with **04_Feature_Engineering**\n",
    "\n",
    "---\n",
    "*FAERS data provides the regulatory context needed for comprehensive adverse event prediction.*\n"
   ]
  }
 ],
 "metadata": {
  "kernelspec": {
   "display_name": "Python 3",
   "language": "python",
   "name": "python3"
  },
  "language_info": {
   "codemirror_mode": {
    "name": "ipython",
    "version": 3
   },
   "file_extension": ".py",
   "mimetype": "text/x-python",
   "name": "python",
   "nbconvert_exporter": "python",
   "pygments_lexer": "ipython3",
   "version": "3.9.23"
  }
 },
 "nbformat": 4,
 "nbformat_minor": 2
}