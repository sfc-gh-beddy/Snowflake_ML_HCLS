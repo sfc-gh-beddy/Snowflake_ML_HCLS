{
 "cells": [
  {
   "cell_type": "raw",
   "metadata": {
    "vscode": {
     "languageId": "raw"
    }
   },
   "source": [
    "# \ud83e\uddea Snowflake Connection Test\n",
    "\n",
    "This notebook helps you verify that your local environment is properly configured and can connect to Snowflake.\n",
    "\n",
    "## \ud83c\udfaf What We're Testing\n",
    "- \u2705 Python environment and package installation\n",
    "- \u2705 Snowflake connection credentials\n",
    "- \u2705 Database permissions and access\n",
    "- \u2705 Basic ML library functionality\n",
    "\n",
    "## \ud83d\udccb Before Running This Notebook\n",
    "\n",
    "1. **Environment Setup**: Ensure you've run the setup script or installed requirements\n",
    "2. **Credentials**: Create a `.env` file with your Snowflake credentials\n",
    "3. **Permissions**: Verify your Snowflake role has necessary privileges\n",
    "\n",
    "If you need help with setup, see `LOCAL_SETUP_GUIDE.md`.\n"
   ]
  },
  {
   "cell_type": "code",
   "execution_count": null,
   "metadata": {},
   "outputs": [],
   "source": [
    "# Test 1: Import Required Libraries\n",
    "print(\"\ud83e\uddea Testing package imports...\")\n",
    "\n",
    "try:\n",
    "    import snowflake.snowpark\n",
    "    print(\"\u2705 snowflake-snowpark-python imported successfully\")\n",
    "except ImportError as e:\n",
    "    print(f\"\u274c snowflake-snowpark-python import failed: {e}\")\n",
    "\n",
    "try:\n",
    "    import snowflake.ml\n",
    "    print(\"\u2705 snowflake-ml-python imported successfully\")\n",
    "except ImportError as e:\n",
    "    print(f\"\u274c snowflake-ml-python import failed: {e}\")\n",
    "\n",
    "try:\n",
    "    import pandas as pd\n",
    "    print(\"\u2705 pandas imported successfully\")\n",
    "except ImportError as e:\n",
    "    print(f\"\u274c pandas import failed: {e}\")\n",
    "\n",
    "try:\n",
    "    import numpy as np\n",
    "    print(\"\u2705 numpy imported successfully\")\n",
    "except ImportError as e:\n",
    "    print(f\"\u274c numpy import failed: {e}\")\n",
    "\n",
    "try:\n",
    "    import sklearn\n",
    "    print(\"\u2705 scikit-learn imported successfully\")\n",
    "except ImportError as e:\n",
    "    print(f\"\u274c scikit-learn import failed: {e}\")\n",
    "\n",
    "try:\n",
    "    import xgboost\n",
    "    print(\"\u2705 xgboost imported successfully\")\n",
    "except ImportError as e:\n",
    "    print(f\"\u274c xgboost import failed: {e}\")\n",
    "\n",
    "print(\"\\n\ud83d\udce6 Package Import Test Complete!\")\n",
    "print(\"If any packages failed to import, please run:\")\n",
    "print(\"   pip install -r requirements.txt\")\n"
   ]
  }
 ],
 "metadata": {
  "kernelspec": {
   "display_name": "Python 3",
   "language": "python",
   "name": "python3"
  },
  "language_info": {
   "codemirror_mode": {
    "name": "ipython",
    "version": 3
   },
   "file_extension": ".py",
   "mimetype": "text/x-python",
   "name": "python",
   "nbconvert_exporter": "python",
   "pygments_lexer": "ipython3",
   "version": "3.9.23"
  }
 },
 "nbformat": 4,
 "nbformat_minor": 4
}