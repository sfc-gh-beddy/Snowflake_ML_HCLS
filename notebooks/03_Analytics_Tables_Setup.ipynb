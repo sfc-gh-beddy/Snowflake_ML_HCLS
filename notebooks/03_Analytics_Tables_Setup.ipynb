{
 "cells": [
  {
   "cell_type": "markdown",
   "metadata": {},
   "source": [
    "# \ud83d\udcca Snowflake ML Demo: Analytics Tables Setup\n",
    "\n",
    "This notebook creates the analytics infrastructure and ML model tracking tables needed for our machine learning pipeline.\n",
    "\n",
    "## \ud83c\udfaf What We're Creating\n",
    "\n",
    "### Analytics Tables (DEMO_ANALYTICS schema)\n",
    "- **PATIENT_RISK_SCORES**: Store patient risk assessments\n",
    "- **DRUG_INTERACTION_ALERTS**: Track potential drug interactions\n",
    "- **AE_PREDICTIONS**: Log model predictions and results\n",
    "- **POPULATION_VS_FAERS_COMPARISON**: Compare local vs national adverse event rates\n",
    "\n",
    "### ML Model Tables (ML_MODELS schema)\n",
    "- **MODEL_REGISTRY**: Track model versions and performance\n",
    "- **FEATURE_IMPORTANCE**: Store feature importance scores\n",
    "- **MODEL_PREDICTIONS_LOG**: Detailed prediction logging\n",
    "\n",
    "## \ud83d\udccb Purpose\n",
    "These tables provide the infrastructure for model deployment, monitoring, and business analytics.\n"
   ]
  },
  {
   "cell_type": "code",
   "execution_count": null,
   "metadata": {},
   "outputs": [],
   "source": [
    "# \ud83d\udd17 Establish Snowflake Connection\n",
    "print(\"\ud83d\udd17 Connecting to Snowflake...\")\n",
    "\n",
    "# Import required libraries\n",
    "from snowflake_connection import get_session\n",
    "import os\n",
    "from dotenv import load_dotenv\n",
    "\n",
    "# Load environment variables\n",
    "load_dotenv()\n",
    "\n",
    "# Create Snowpark session\n",
    "session = get_session()\n",
    "\n",
    "if session:\n",
    "    print(\"\u2705 Connected to Snowflake successfully!\")\n",
    "    \n",
    "    # Set context for analytics tables setup\n",
    "    print(\"\ud83d\udcca Setting context for analytics tables...\")\n",
    "    session.sql(\"USE DATABASE ADVERSE_EVENT_MONITORING\").collect()\n",
    "    session.sql(\"USE WAREHOUSE ADVERSE_EVENT_WH\").collect()\n",
    "    print(\"\u2705 Context set successfully!\")\n",
    "else:\n",
    "    print(\"\u274c Failed to connect to Snowflake!\")\n",
    "    print(\"   Please check your .env file configuration\")\n",
    "    raise Exception(\"Snowflake connection failed\")\n"
   ]
  },
  {
   "cell_type": "code",
   "execution_count": null,
   "metadata": {
    "vscode": {
     "languageId": "sql"
    }
   },
   "outputs": [],
   "source": [
    "# \ud83d\udcca Create analytics tables in DEMO_ANALYTICS schema\n",
    "print(\"\ud83d\udcca Creating analytics tables in DEMO_ANALYTICS schema...\")\n",
    "\n",
    "# Switch to DEMO_ANALYTICS schema\n",
    "session.sql(\"USE SCHEMA DEMO_ANALYTICS\").collect()\n",
    "print(\"\u2705 Switched to DEMO_ANALYTICS schema\")\n"
   ]
  },
  {
   "cell_type": "code",
   "execution_count": null,
   "metadata": {
    "vscode": {
     "languageId": "sql"
    }
   },
   "outputs": [],
   "source": [
    "# \ud83d\udcca Create PATIENT_RISK_SCORES table\n",
    "print(\"\ud83d\udcca Creating PATIENT_RISK_SCORES table...\")\n",
    "\n",
    "session.sql(\"\"\"\n",
    "    CREATE TABLE IF NOT EXISTS PATIENT_RISK_SCORES (\n",
    "        patient_id VARCHAR(50),\n",
    "        risk_score FLOAT,\n",
    "        risk_category VARCHAR(20),\n",
    "        primary_risk_factors ARRAY,\n",
    "        medication_count INTEGER,\n",
    "        condition_count INTEGER,\n",
    "        age_group VARCHAR(20),\n",
    "        calculation_date TIMESTAMP DEFAULT CURRENT_TIMESTAMP()\n",
    "    )\n",
    "\"\"\").collect()\n",
    "\n",
    "print(\"\u2705 PATIENT_RISK_SCORES table created successfully!\")\n"
   ]
  },
  {
   "cell_type": "code",
   "execution_count": null,
   "metadata": {
    "vscode": {
     "languageId": "sql"
    }
   },
   "outputs": [],
   "source": [
    "# \ud83d\udcca Create DRUG_INTERACTION_ALERTS table\n",
    "print(\"\ud83d\udcca Creating DRUG_INTERACTION_ALERTS table...\")\n",
    "\n",
    "session.sql(\"\"\"\n",
    "    CREATE TABLE IF NOT EXISTS DRUG_INTERACTION_ALERTS (\n",
    "        alert_id VARCHAR(50),\n",
    "        patient_id VARCHAR(50),\n",
    "        drug1 VARCHAR(200),\n",
    "        drug2 VARCHAR(200),\n",
    "        interaction_type VARCHAR(100),\n",
    "        severity_level VARCHAR(20),\n",
    "        clinical_significance VARCHAR(500),\n",
    "        recommendation VARCHAR(1000),\n",
    "        alert_date TIMESTAMP DEFAULT CURRENT_TIMESTAMP()\n",
    "    )\n",
    "\"\"\").collect()\n",
    "\n",
    "print(\"\u2705 DRUG_INTERACTION_ALERTS table created successfully!\")\n",
    "\n",
    "# \ud83c\udfaf Create AE_PREDICTIONS table\n",
    "print(\"\ud83d\udcca Creating AE_PREDICTIONS table...\")\n",
    "\n",
    "session.sql(\"\"\"\n",
    "    CREATE TABLE IF NOT EXISTS AE_PREDICTIONS (\n",
    "        prediction_id VARCHAR(50),\n",
    "        patient_id VARCHAR(50),\n",
    "        predicted_ae VARCHAR(200),\n",
    "        probability FLOAT,\n",
    "        confidence_interval VARCHAR(50),\n",
    "        model_version VARCHAR(20),\n",
    "        prediction_date TIMESTAMP DEFAULT CURRENT_TIMESTAMP()\n",
    "    )\n",
    "\"\"\").collect()\n",
    "\n",
    "print(\"\u2705 AE_PREDICTIONS table created successfully!\")\n"
   ]
  },
  {
   "cell_type": "code",
   "execution_count": null,
   "metadata": {
    "vscode": {
     "languageId": "sql"
    }
   },
   "outputs": [],
   "source": [
    "# \ud83d\udcca Create POPULATION_VS_FAERS_COMPARISON table\n",
    "print(\"\ud83d\udcca Creating POPULATION_VS_FAERS_COMPARISON table...\")\n",
    "\n",
    "session.sql(\"\"\"\n",
    "    CREATE TABLE IF NOT EXISTS POPULATION_VS_FAERS_COMPARISON (\n",
    "        medication VARCHAR(200),\n",
    "        adverse_event VARCHAR(200),\n",
    "        local_population_rate FLOAT,\n",
    "        faers_national_rate FLOAT,\n",
    "        rate_ratio FLOAT,\n",
    "        statistical_significance FLOAT,\n",
    "        sample_size INTEGER,\n",
    "        analysis_date TIMESTAMP DEFAULT CURRENT_TIMESTAMP()\n",
    "    )\n",
    "\"\"\").collect()\n",
    "\n",
    "print(\"\u2705 POPULATION_VS_FAERS_COMPARISON table created successfully!\")\n"
   ]
  },
  {
   "cell_type": "code",
   "execution_count": null,
   "metadata": {
    "vscode": {
     "languageId": "sql"
    }
   },
   "outputs": [],
   "source": [
    "# \ud83e\udd16 Create ML model tracking tables in ML_MODELS schema\n",
    "print(\"\ud83e\udd16 Creating ML model tracking tables in ML_MODELS schema...\")\n",
    "\n",
    "# Switch to ML_MODELS schema\n",
    "session.sql(\"USE SCHEMA ML_MODELS\").collect()\n",
    "print(\"\u2705 Switched to ML_MODELS schema\")\n",
    "\n",
    "# Create MODEL_REGISTRY table\n",
    "print(\"\ud83d\udcca Creating MODEL_REGISTRY table...\")\n",
    "\n",
    "session.sql(\"\"\"\n",
    "    CREATE TABLE IF NOT EXISTS MODEL_REGISTRY (\n",
    "        model_id VARCHAR(50),\n",
    "        model_name VARCHAR(100),\n",
    "        model_type VARCHAR(50),\n",
    "        model_version VARCHAR(20),\n",
    "        training_date TIMESTAMP,\n",
    "        accuracy_score FLOAT,\n",
    "        precision_score FLOAT,\n",
    "        recall_score FLOAT,\n",
    "        f1_score FLOAT,\n",
    "        model_status VARCHAR(20),\n",
    "        created_by VARCHAR(100)\n",
    "    )\n",
    "\"\"\").collect()\n",
    "\n",
    "print(\"\u2705 MODEL_REGISTRY table created successfully!\")\n"
   ]
  },
  {
   "cell_type": "code",
   "execution_count": null,
   "metadata": {
    "vscode": {
     "languageId": "sql"
    }
   },
   "outputs": [],
   "source": [
    "# \ud83d\udcca Create FEATURE_IMPORTANCE table\n",
    "print(\"\ud83d\udcca Creating FEATURE_IMPORTANCE table...\")\n",
    "\n",
    "session.sql(\"\"\"\n",
    "    CREATE TABLE IF NOT EXISTS FEATURE_IMPORTANCE (\n",
    "        model_id VARCHAR(50),\n",
    "        feature_name VARCHAR(100),\n",
    "        importance_score FLOAT,\n",
    "        feature_type VARCHAR(50),\n",
    "        created_date TIMESTAMP DEFAULT CURRENT_TIMESTAMP()\n",
    "    )\n",
    "\"\"\").collect()\n",
    "\n",
    "print(\"\u2705 FEATURE_IMPORTANCE table created successfully!\")\n",
    "\n",
    "# \ud83d\udd0d Create MODEL_PREDICTIONS_LOG table\n",
    "print(\"\ud83d\udcca Creating MODEL_PREDICTIONS_LOG table...\")\n",
    "\n",
    "session.sql(\"\"\"\n",
    "    CREATE TABLE IF NOT EXISTS MODEL_PREDICTIONS_LOG (\n",
    "        prediction_id VARCHAR(50),\n",
    "        model_id VARCHAR(50),\n",
    "        patient_id VARCHAR(50),\n",
    "        input_features OBJECT,\n",
    "        prediction_result OBJECT,\n",
    "        confidence_score FLOAT,\n",
    "        prediction_timestamp TIMESTAMP DEFAULT CURRENT_TIMESTAMP()\n",
    "    )\n",
    "\"\"\").collect()\n",
    "\n",
    "print(\"\u2705 MODEL_PREDICTIONS_LOG table created successfully!\")\n"
   ]
  },
  {
   "cell_type": "code",
   "execution_count": null,
   "metadata": {
    "vscode": {
     "languageId": "sql"
    }
   },
   "outputs": [],
   "source": [
    "# \u2705 Verify analytics tables were created successfully\n",
    "print(\"\u2705 Verifying DEMO_ANALYTICS tables were created...\")\n",
    "\n",
    "# Switch to DEMO_ANALYTICS schema and show tables\n",
    "session.sql(\"USE SCHEMA DEMO_ANALYTICS\").collect()\n",
    "analytics_tables = session.sql(\"SHOW TABLES\").collect()\n",
    "\n",
    "print(\"\\n\ud83d\udcca DEMO_ANALYTICS Tables:\")\n",
    "for table in analytics_tables:\n",
    "    print(f\"   \ud83d\udd38 {table[1]}\")  # table[1] contains the table name\n",
    "\n",
    "print(f\"\\n\u2705 {len(analytics_tables)} analytics tables created successfully!\")\n"
   ]
  },
  {
   "cell_type": "code",
   "execution_count": null,
   "metadata": {
    "vscode": {
     "languageId": "sql"
    }
   },
   "outputs": [],
   "source": [
    "# \u2705 Verify ML model tables were created successfully\n",
    "print(\"\u2705 Verifying ML_MODELS tables were created...\")\n",
    "\n",
    "# Switch to ML_MODELS schema and show tables\n",
    "session.sql(\"USE SCHEMA ML_MODELS\").collect()\n",
    "ml_tables = session.sql(\"SHOW TABLES\").collect()\n",
    "\n",
    "print(\"\\n\ud83e\udd16 ML_MODELS Tables:\")\n",
    "for table in ml_tables:\n",
    "    print(f\"   \ud83d\udd38 {table[1]}\")  # table[1] contains the table name\n",
    "\n",
    "print(f\"\\n\u2705 {len(ml_tables)} ML model tables created successfully!\")\n",
    "print(\"\\n\ud83c\udf89 All analytics infrastructure is ready!\")\n"
   ]
  },
  {
   "cell_type": "markdown",
   "metadata": {
    "vscode": {
     "languageId": "sql"
    }
   },
   "source": [
    "## \u2705 Analytics Infrastructure Complete!\n",
    "\n",
    "Your ML analytics infrastructure is now ready:\n",
    "\n",
    "### \ud83d\udcca Analytics Tables (DEMO_ANALYTICS)\n",
    "- \u2705 **PATIENT_RISK_SCORES**: Ready for risk assessments\n",
    "- \u2705 **DRUG_INTERACTION_ALERTS**: Drug interaction monitoring\n",
    "- \u2705 **AE_PREDICTIONS**: Model prediction storage\n",
    "- \u2705 **POPULATION_VS_FAERS_COMPARISON**: Population analysis\n",
    "\n",
    "### \ud83e\udd16 ML Model Tables (ML_MODELS)\n",
    "- \u2705 **MODEL_REGISTRY**: Model version tracking\n",
    "- \u2705 **FEATURE_IMPORTANCE**: Feature analysis storage\n",
    "- \u2705 **MODEL_PREDICTIONS_LOG**: Detailed prediction logging\n",
    "\n",
    "## \ud83c\udfaf Ready for Machine Learning\n",
    "The foundation is now complete! These tables will support:\n",
    "- Model training and evaluation\n",
    "- Real-time predictions and logging\n",
    "- Performance monitoring and drift detection\n",
    "- Business analytics and reporting\n",
    "\n",
    "## \ud83d\udccb Next Steps\n",
    "1. Begin feature engineering with **04_Feature_Engineering**\n",
    "2. Train your first model with **05_Model_Training**\n",
    "\n",
    "---\n",
    "*Analytics infrastructure provides the backbone for scalable ML operations.*\n"
   ]
  }
 ],
 "metadata": {
  "kernelspec": {
   "display_name": "Python 3",
   "language": "python",
   "name": "python3"
  },
  "language_info": {
   "codemirror_mode": {
    "name": "ipython",
    "version": 3
   },
   "file_extension": ".py",
   "mimetype": "text/x-python",
   "name": "python",
   "nbconvert_exporter": "python",
   "pygments_lexer": "ipython3",
   "version": "3.9.23"
  }
 },
 "nbformat": 4,
 "nbformat_minor": 2
}