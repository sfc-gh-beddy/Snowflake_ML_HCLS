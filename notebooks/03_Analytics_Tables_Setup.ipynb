{
 "cells": [
  {
   "cell_type": "markdown",
   "metadata": {},
   "source": [
    "# 📊 Snowflake ML Demo: Analytics Tables Setup\n",
    "\n",
    "This notebook creates the analytics infrastructure and ML model tracking tables needed for our machine learning pipeline.\n",
    "\n",
    "## 🎯 What We're Creating\n",
    "\n",
    "### Analytics Tables (DEMO_ANALYTICS schema)\n",
    "- **PATIENT_RISK_SCORES**: Store patient risk assessments\n",
    "- **DRUG_INTERACTION_ALERTS**: Track potential drug interactions\n",
    "- **AE_PREDICTIONS**: Log model predictions and results\n",
    "- **POPULATION_VS_FAERS_COMPARISON**: Compare local vs national adverse event rates\n",
    "\n",
    "### ML Model Tables (ML_MODELS schema)\n",
    "- **MODEL_REGISTRY**: Track model versions and performance\n",
    "- **FEATURE_IMPORTANCE**: Store feature importance scores\n",
    "- **MODEL_PREDICTIONS_LOG**: Detailed prediction logging\n",
    "\n",
    "## 📋 Purpose\n",
    "These tables provide the infrastructure for model deployment, monitoring, and business analytics.\n"
   ]
  },
  {
   "cell_type": "code",
   "execution_count": 1,
   "metadata": {},
   "outputs": [
    {
     "name": "stdout",
     "output_type": "stream",
     "text": [
      "🔗 Connecting to Snowflake...\n",
      "📁 Added to Python path: /Users/beddy/Desktop/Github/Snowflake_ML_HCLS/notebooks/../src\n",
      "🚀 Initializing Snowflake ML Platform connection...\n",
      "✅ Snowflake connection established successfully!\n",
      "📍 Connected to: SFSENORTHAMERICA-SE-HCLS-EXPANSION-EAST\n",
      "👤 User: BEDDY\n",
      "🏢 Database: ADVERSE_EVENT_MONITORING\n",
      "📊 Schema: DEMO_ANALYTICS\n",
      "⚡ Warehouse: ADVERSE_EVENT_WH\n",
      "🧪 Connection test passed!\n",
      "   Snowflake Version: 9.21.0\n",
      "✅ Demo environment already exists\n",
      "🎉 Ready for ML Platform operations!\n",
      "✅ Connected to Snowflake successfully!\n",
      "📊 Setting context for analytics tables...\n",
      "✅ Context set successfully!\n"
     ]
    }
   ],
   "source": [
    "# 🔗 Establish Snowflake Connection\n",
    "print(\"🔗 Connecting to Snowflake...\")\n",
    "\n",
    "# Import required libraries\n",
    "import sys\n",
    "import os\n",
    "\n",
    "# Fix path for snowflake_connection module\n",
    "current_dir = os.getcwd()\n",
    "if \"notebooks\" in current_dir:\n",
    "    # Running from notebooks folder\n",
    "    src_path = os.path.join(current_dir, \"..\", \"src\")\n",
    "else:\n",
    "    # Running from root folder  \n",
    "    src_path = os.path.join(current_dir, \"src\")\n",
    "\n",
    "sys.path.append(src_path)\n",
    "print(f\"📁 Added to Python path: {src_path}\")\n",
    "\n",
    "# Now import the connection module\n",
    "from snowflake_connection import get_session\n",
    "\n",
    "# Create Snowpark session\n",
    "session = get_session()\n",
    "\n",
    "if session:\n",
    "    print(\"✅ Connected to Snowflake successfully!\")\n",
    "    \n",
    "    # Set context for analytics tables setup\n",
    "    print(\"📊 Setting context for analytics tables...\")\n",
    "    session.sql(\"USE DATABASE ADVERSE_EVENT_MONITORING\").collect()\n",
    "    session.sql(\"USE WAREHOUSE ADVERSE_EVENT_WH\").collect()\n",
    "    print(\"✅ Context set successfully!\")\n",
    "else:\n",
    "    print(\"❌ Failed to connect to Snowflake!\")\n",
    "    print(\"   Please check your .env file configuration\")\n",
    "    raise Exception(\"Snowflake connection failed\")\n"
   ]
  },
  {
   "cell_type": "code",
   "execution_count": 2,
   "metadata": {
    "vscode": {
     "languageId": "sql"
    }
   },
   "outputs": [
    {
     "name": "stdout",
     "output_type": "stream",
     "text": [
      "📊 Creating analytics tables in DEMO_ANALYTICS schema...\n",
      "✅ Switched to DEMO_ANALYTICS schema\n"
     ]
    }
   ],
   "source": [
    "# 📊 Create analytics tables in DEMO_ANALYTICS schema\n",
    "print(\"📊 Creating analytics tables in DEMO_ANALYTICS schema...\")\n",
    "\n",
    "# Switch to DEMO_ANALYTICS schema\n",
    "session.sql(\"USE SCHEMA DEMO_ANALYTICS\").collect()\n",
    "print(\"✅ Switched to DEMO_ANALYTICS schema\")\n"
   ]
  },
  {
   "cell_type": "code",
   "execution_count": 3,
   "metadata": {
    "vscode": {
     "languageId": "sql"
    }
   },
   "outputs": [
    {
     "name": "stdout",
     "output_type": "stream",
     "text": [
      "📊 Creating PATIENT_RISK_SCORES table...\n",
      "✅ PATIENT_RISK_SCORES table created successfully!\n"
     ]
    }
   ],
   "source": [
    "# 📊 Create PATIENT_RISK_SCORES table\n",
    "print(\"📊 Creating PATIENT_RISK_SCORES table...\")\n",
    "\n",
    "session.sql(\"\"\"\n",
    "    CREATE TABLE IF NOT EXISTS PATIENT_RISK_SCORES (\n",
    "        patient_id VARCHAR(50),\n",
    "        risk_score FLOAT,\n",
    "        risk_category VARCHAR(20),\n",
    "        primary_risk_factors ARRAY,\n",
    "        medication_count INTEGER,\n",
    "        condition_count INTEGER,\n",
    "        age_group VARCHAR(20),\n",
    "        calculation_date TIMESTAMP DEFAULT CURRENT_TIMESTAMP()\n",
    "    )\n",
    "\"\"\").collect()\n",
    "\n",
    "print(\"✅ PATIENT_RISK_SCORES table created successfully!\")\n"
   ]
  },
  {
   "cell_type": "code",
   "execution_count": 4,
   "metadata": {
    "vscode": {
     "languageId": "sql"
    }
   },
   "outputs": [
    {
     "name": "stdout",
     "output_type": "stream",
     "text": [
      "📊 Creating DRUG_INTERACTION_ALERTS table...\n",
      "✅ DRUG_INTERACTION_ALERTS table created successfully!\n",
      "📊 Creating AE_PREDICTIONS table...\n",
      "✅ AE_PREDICTIONS table created successfully!\n"
     ]
    }
   ],
   "source": [
    "# 📊 Create DRUG_INTERACTION_ALERTS table\n",
    "print(\"📊 Creating DRUG_INTERACTION_ALERTS table...\")\n",
    "\n",
    "session.sql(\"\"\"\n",
    "    CREATE TABLE IF NOT EXISTS DRUG_INTERACTION_ALERTS (\n",
    "        alert_id VARCHAR(50),\n",
    "        patient_id VARCHAR(50),\n",
    "        drug1 VARCHAR(200),\n",
    "        drug2 VARCHAR(200),\n",
    "        interaction_type VARCHAR(100),\n",
    "        severity_level VARCHAR(20),\n",
    "        clinical_significance VARCHAR(500),\n",
    "        recommendation VARCHAR(1000),\n",
    "        alert_date TIMESTAMP DEFAULT CURRENT_TIMESTAMP()\n",
    "    )\n",
    "\"\"\").collect()\n",
    "\n",
    "print(\"✅ DRUG_INTERACTION_ALERTS table created successfully!\")\n",
    "\n",
    "# 🎯 Create AE_PREDICTIONS table\n",
    "print(\"📊 Creating AE_PREDICTIONS table...\")\n",
    "\n",
    "session.sql(\"\"\"\n",
    "    CREATE TABLE IF NOT EXISTS AE_PREDICTIONS (\n",
    "        prediction_id VARCHAR(50),\n",
    "        patient_id VARCHAR(50),\n",
    "        predicted_ae VARCHAR(200),\n",
    "        probability FLOAT,\n",
    "        confidence_interval VARCHAR(50),\n",
    "        model_version VARCHAR(20),\n",
    "        prediction_date TIMESTAMP DEFAULT CURRENT_TIMESTAMP()\n",
    "    )\n",
    "\"\"\").collect()\n",
    "\n",
    "print(\"✅ AE_PREDICTIONS table created successfully!\")\n"
   ]
  },
  {
   "cell_type": "code",
   "execution_count": 5,
   "metadata": {
    "vscode": {
     "languageId": "sql"
    }
   },
   "outputs": [
    {
     "name": "stdout",
     "output_type": "stream",
     "text": [
      "📊 Creating POPULATION_VS_FAERS_COMPARISON table...\n",
      "✅ POPULATION_VS_FAERS_COMPARISON table created successfully!\n"
     ]
    }
   ],
   "source": [
    "# 📊 Create POPULATION_VS_FAERS_COMPARISON table\n",
    "print(\"📊 Creating POPULATION_VS_FAERS_COMPARISON table...\")\n",
    "\n",
    "session.sql(\"\"\"\n",
    "    CREATE TABLE IF NOT EXISTS POPULATION_VS_FAERS_COMPARISON (\n",
    "        medication VARCHAR(200),\n",
    "        adverse_event VARCHAR(200),\n",
    "        local_population_rate FLOAT,\n",
    "        faers_national_rate FLOAT,\n",
    "        rate_ratio FLOAT,\n",
    "        statistical_significance FLOAT,\n",
    "        sample_size INTEGER,\n",
    "        analysis_date TIMESTAMP DEFAULT CURRENT_TIMESTAMP()\n",
    "    )\n",
    "\"\"\").collect()\n",
    "\n",
    "print(\"✅ POPULATION_VS_FAERS_COMPARISON table created successfully!\")\n"
   ]
  },
  {
   "cell_type": "code",
   "execution_count": 6,
   "metadata": {
    "vscode": {
     "languageId": "sql"
    }
   },
   "outputs": [
    {
     "name": "stdout",
     "output_type": "stream",
     "text": [
      "🤖 Creating ML model tracking tables in ML_MODELS schema...\n",
      "✅ Switched to ML_MODELS schema\n",
      "📊 Creating MODEL_REGISTRY table...\n",
      "✅ MODEL_REGISTRY table created successfully!\n"
     ]
    }
   ],
   "source": [
    "# 🤖 Create ML model tracking tables in ML_MODELS schema\n",
    "print(\"🤖 Creating ML model tracking tables in ML_MODELS schema...\")\n",
    "\n",
    "# Switch to ML_MODELS schema\n",
    "session.sql(\"USE SCHEMA ML_MODELS\").collect()\n",
    "print(\"✅ Switched to ML_MODELS schema\")\n",
    "\n",
    "# Create MODEL_REGISTRY table\n",
    "print(\"📊 Creating MODEL_REGISTRY table...\")\n",
    "\n",
    "session.sql(\"\"\"\n",
    "    CREATE TABLE IF NOT EXISTS MODEL_REGISTRY (\n",
    "        model_id VARCHAR(50),\n",
    "        model_name VARCHAR(100),\n",
    "        model_type VARCHAR(50),\n",
    "        model_version VARCHAR(20),\n",
    "        training_date TIMESTAMP,\n",
    "        accuracy_score FLOAT,\n",
    "        precision_score FLOAT,\n",
    "        recall_score FLOAT,\n",
    "        f1_score FLOAT,\n",
    "        model_status VARCHAR(20),\n",
    "        created_by VARCHAR(100)\n",
    "    )\n",
    "\"\"\").collect()\n",
    "\n",
    "print(\"✅ MODEL_REGISTRY table created successfully!\")\n"
   ]
  },
  {
   "cell_type": "code",
   "execution_count": 7,
   "metadata": {
    "vscode": {
     "languageId": "sql"
    }
   },
   "outputs": [
    {
     "name": "stdout",
     "output_type": "stream",
     "text": [
      "📊 Creating FEATURE_IMPORTANCE table...\n",
      "✅ FEATURE_IMPORTANCE table created successfully!\n",
      "📊 Creating MODEL_PREDICTIONS_LOG table...\n",
      "✅ MODEL_PREDICTIONS_LOG table created successfully!\n"
     ]
    }
   ],
   "source": [
    "# 📊 Create FEATURE_IMPORTANCE table\n",
    "print(\"📊 Creating FEATURE_IMPORTANCE table...\")\n",
    "\n",
    "session.sql(\"\"\"\n",
    "    CREATE TABLE IF NOT EXISTS FEATURE_IMPORTANCE (\n",
    "        model_id VARCHAR(50),\n",
    "        feature_name VARCHAR(100),\n",
    "        importance_score FLOAT,\n",
    "        feature_type VARCHAR(50),\n",
    "        created_date TIMESTAMP DEFAULT CURRENT_TIMESTAMP()\n",
    "    )\n",
    "\"\"\").collect()\n",
    "\n",
    "print(\"✅ FEATURE_IMPORTANCE table created successfully!\")\n",
    "\n",
    "# 🔍 Create MODEL_PREDICTIONS_LOG table\n",
    "print(\"📊 Creating MODEL_PREDICTIONS_LOG table...\")\n",
    "\n",
    "session.sql(\"\"\"\n",
    "    CREATE TABLE IF NOT EXISTS MODEL_PREDICTIONS_LOG (\n",
    "        prediction_id VARCHAR(50),\n",
    "        model_id VARCHAR(50),\n",
    "        patient_id VARCHAR(50),\n",
    "        input_features OBJECT,\n",
    "        prediction_result OBJECT,\n",
    "        confidence_score FLOAT,\n",
    "        prediction_timestamp TIMESTAMP DEFAULT CURRENT_TIMESTAMP()\n",
    "    )\n",
    "\"\"\").collect()\n",
    "\n",
    "print(\"✅ MODEL_PREDICTIONS_LOG table created successfully!\")\n"
   ]
  },
  {
   "cell_type": "code",
   "execution_count": 8,
   "metadata": {
    "vscode": {
     "languageId": "sql"
    }
   },
   "outputs": [
    {
     "name": "stdout",
     "output_type": "stream",
     "text": [
      "✅ Verifying DEMO_ANALYTICS tables were created...\n",
      "\n",
      "📊 DEMO_ANALYTICS Tables:\n",
      "   🔸 AE_PREDICTIONS\n",
      "   🔸 DRUG_INTERACTION_ALERTS\n",
      "   🔸 ENHANCED_HEALTHCARE_DATA\n",
      "   🔸 FAERS_HCLS_INTEGRATED_DATASET\n",
      "   🔸 FEATURE_METADATA\n",
      "   🔸 HEALTHCARE_FEATURES\n",
      "   🔸 ML_TRAINING_FAERS_HCLS\n",
      "   🔸 MODEL_ALERTS\n",
      "   🔸 MODEL_MONITORING\n",
      "   🔸 PATIENT_RISK_SCORES\n",
      "   🔸 POPULATION_VS_FAERS_COMPARISON\n",
      "   🔸 PREPARED_HEALTHCARE_ANALYTICS\n",
      "   🔸 PREPARED_HEALTHCARE_DATA\n",
      "   🔸 REGRESSION_HEALTHCARE_DATA\n",
      "\n",
      "✅ 14 analytics tables created successfully!\n"
     ]
    }
   ],
   "source": [
    "# ✅ Verify analytics tables were created successfully\n",
    "print(\"✅ Verifying DEMO_ANALYTICS tables were created...\")\n",
    "\n",
    "# Switch to DEMO_ANALYTICS schema and show tables\n",
    "session.sql(\"USE SCHEMA DEMO_ANALYTICS\").collect()\n",
    "analytics_tables = session.sql(\"SHOW TABLES\").collect()\n",
    "\n",
    "print(\"\\n📊 DEMO_ANALYTICS Tables:\")\n",
    "for table in analytics_tables:\n",
    "    print(f\"   🔸 {table[1]}\")  # table[1] contains the table name\n",
    "\n",
    "print(f\"\\n✅ {len(analytics_tables)} analytics tables created successfully!\")\n"
   ]
  },
  {
   "cell_type": "code",
   "execution_count": 9,
   "metadata": {
    "vscode": {
     "languageId": "sql"
    }
   },
   "outputs": [
    {
     "name": "stdout",
     "output_type": "stream",
     "text": [
      "✅ Verifying ML_MODELS tables were created...\n",
      "\n",
      "🤖 ML_MODELS Tables:\n",
      "   🔸 FEATURE_IMPORTANCE\n",
      "   🔸 MODEL_PREDICTIONS_LOG\n",
      "   🔸 MODEL_REGISTRY\n",
      "\n",
      "✅ 3 ML model tables created successfully!\n",
      "\n",
      "🎉 All analytics infrastructure is ready!\n"
     ]
    }
   ],
   "source": [
    "# ✅ Verify ML model tables were created successfully\n",
    "print(\"✅ Verifying ML_MODELS tables were created...\")\n",
    "\n",
    "# Switch to ML_MODELS schema and show tables\n",
    "session.sql(\"USE SCHEMA ML_MODELS\").collect()\n",
    "ml_tables = session.sql(\"SHOW TABLES\").collect()\n",
    "\n",
    "print(\"\\n🤖 ML_MODELS Tables:\")\n",
    "for table in ml_tables:\n",
    "    print(f\"   🔸 {table[1]}\")  # table[1] contains the table name\n",
    "\n",
    "print(f\"\\n✅ {len(ml_tables)} ML model tables created successfully!\")\n",
    "print(\"\\n🎉 All analytics infrastructure is ready!\")\n"
   ]
  },
  {
   "cell_type": "code",
   "execution_count": 10,
   "metadata": {},
   "outputs": [
    {
     "name": "stdout",
     "output_type": "stream",
     "text": [
      "📊 Creating healthcare analytics data for feature engineering...\n",
      "✅ Created PREPARED_HEALTHCARE_ANALYTICS table with 50,000 patient records\n",
      "📊 This table is now ready for feature engineering in notebook 4\n",
      "\n",
      "🔍 Sample healthcare analytics data:\n",
      " PATIENT_ID  AGE GENDER  NUM_CONDITIONS  NUM_MEDICATIONS  NUM_CLAIMS RISK_CATEGORY\n",
      "PAT_0000000   65      M               2               25         136      LOW_RISK\n",
      "PAT_0000001   57      F              12               18          69   MEDIUM_RISK\n",
      "PAT_0000002   50      F               6               22         173   MEDIUM_RISK\n",
      "PAT_0000003   36      M              14               11         140      LOW_RISK\n",
      "PAT_0000004   25      M               2               15         117      LOW_RISK\n"
     ]
    }
   ],
   "source": [
    "# 📊 Create Healthcare Analytics Data (Required for Notebook 4)\n",
    "print(\"📊 Creating healthcare analytics data for feature engineering...\")\n",
    "\n",
    "# Generate sample healthcare data for ML training\n",
    "session.sql(\"\"\"\n",
    "CREATE OR REPLACE TABLE ADVERSE_EVENT_MONITORING.DEMO_ANALYTICS.PREPARED_HEALTHCARE_ANALYTICS AS\n",
    "WITH patient_base AS (\n",
    "    SELECT \n",
    "        CONCAT('PAT_', LPAD(SEQ4(), 7, '0')) as PATIENT_ID,\n",
    "        FLOOR(UNIFORM(18, 90, RANDOM())) as AGE,\n",
    "        CASE WHEN UNIFORM(0, 1, RANDOM()) < 0.6 THEN 'F' ELSE 'M' END as GENDER,\n",
    "        FLOOR(UNIFORM(1, 15, RANDOM())) as NUM_CONDITIONS,\n",
    "        FLOOR(UNIFORM(0, 25, RANDOM())) as NUM_MEDICATIONS,\n",
    "        FLOOR(UNIFORM(1, 200, RANDOM())) as NUM_CLAIMS\n",
    "    FROM TABLE(GENERATOR(ROWCOUNT => 50000))  -- Generate 50K sample patients\n",
    ")\n",
    "SELECT \n",
    "    PATIENT_ID,\n",
    "    AGE,\n",
    "    GENDER,\n",
    "    NUM_CONDITIONS,\n",
    "    NUM_MEDICATIONS, \n",
    "    NUM_CLAIMS,\n",
    "    -- Add some derived healthcare metrics\n",
    "    CASE \n",
    "        WHEN AGE >= 65 AND NUM_CONDITIONS >= 5 THEN 'HIGH_RISK'\n",
    "        WHEN AGE >= 50 AND NUM_CONDITIONS >= 3 THEN 'MEDIUM_RISK'  \n",
    "        ELSE 'LOW_RISK'\n",
    "    END as RISK_CATEGORY,\n",
    "    CASE WHEN NUM_MEDICATIONS >= 10 THEN 1 ELSE 0 END as POLYPHARMACY_FLAG,\n",
    "    CURRENT_TIMESTAMP() as CREATED_DATE\n",
    "FROM patient_base\n",
    "\"\"\").collect()\n",
    "\n",
    "# Verify the data was created\n",
    "verification = session.sql(\"SELECT COUNT(*) as row_count FROM ADVERSE_EVENT_MONITORING.DEMO_ANALYTICS.PREPARED_HEALTHCARE_ANALYTICS\").collect()\n",
    "row_count = verification[0]['ROW_COUNT']\n",
    "\n",
    "print(f\"✅ Created PREPARED_HEALTHCARE_ANALYTICS table with {row_count:,} patient records\")\n",
    "print(\"📊 This table is now ready for feature engineering in notebook 4\")\n",
    "\n",
    "# Show sample of the data\n",
    "print(\"\\n🔍 Sample healthcare analytics data:\")\n",
    "sample_data = session.sql(\"\"\"\n",
    "    SELECT PATIENT_ID, AGE, GENDER, NUM_CONDITIONS, NUM_MEDICATIONS, NUM_CLAIMS, RISK_CATEGORY\n",
    "    FROM ADVERSE_EVENT_MONITORING.DEMO_ANALYTICS.PREPARED_HEALTHCARE_ANALYTICS\n",
    "    LIMIT 5\n",
    "\"\"\").to_pandas()\n",
    "print(sample_data.to_string(index=False))\n"
   ]
  },
  {
   "cell_type": "markdown",
   "metadata": {
    "vscode": {
     "languageId": "raw"
    }
   },
   "source": [
    "## ✅ Analytics Infrastructure Complete!\n",
    "\n",
    "Your ML analytics infrastructure is now ready:\n",
    "\n",
    "### 📊 Analytics Tables (DEMO_ANALYTICS)\n",
    "- ✅ **PATIENT_RISK_SCORES**: Ready for risk assessments\n",
    "- ✅ **DRUG_INTERACTION_ALERTS**: Drug interaction monitoring\n",
    "- ✅ **AE_PREDICTIONS**: Model prediction storage\n",
    "- ✅ **POPULATION_VS_FAERS_COMPARISON**: Population analysis\n",
    "- ✅ **PREPARED_HEALTHCARE_ANALYTICS**: 50K patient records for ML training\n",
    "\n",
    "### 🤖 ML Model Tables (ML_MODELS)\n",
    "- ✅ **MODEL_REGISTRY**: Model version tracking\n",
    "- ✅ **FEATURE_IMPORTANCE**: Feature analysis storage\n",
    "- ✅ **MODEL_PREDICTIONS_LOG**: Detailed prediction logging\n",
    "\n",
    "## 🎯 Ready for Machine Learning\n",
    "The foundation is now complete! These tables will support:\n",
    "- Model training and evaluation with real healthcare data\n",
    "- Real-time predictions and logging\n",
    "- Performance monitoring and drift detection\n",
    "- Business analytics and reporting\n",
    "\n",
    "## 📋 Next Steps\n",
    "1. ✅ **Run Notebook 4**: Feature engineering with Snowflake ML preprocessing\n",
    "2. ✅ **Run Notebook 5**: Complete ML workflow (Feature Store + distributed training)\n",
    "3. ✅ **Run Notebook 7**: Native ML observability and monitoring\n",
    "\n",
    "---\n",
    "*Analytics infrastructure + healthcare data provides the complete foundation for enterprise ML operations.*\n"
   ]
  }
 ],
 "metadata": {
  "kernelspec": {
   "display_name": "Python 3",
   "language": "python",
   "name": "python3"
  },
  "language_info": {
   "codemirror_mode": {
    "name": "ipython",
    "version": 3
   },
   "file_extension": ".py",
   "mimetype": "text/x-python",
   "name": "python",
   "nbconvert_exporter": "python",
   "pygments_lexer": "ipython3",
   "version": "3.9.23"
  }
 },
 "nbformat": 4,
 "nbformat_minor": 2
}
