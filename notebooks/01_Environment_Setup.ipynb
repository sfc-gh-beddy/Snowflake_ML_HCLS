{
 "cells": [
  {
   "cell_type": "markdown",
   "metadata": {
    "vscode": {
     "languageId": "plaintext"
    }
   },
   "source": [
    "# Snowflake ML Demo: Environment Setup\n",
    "\n",
    "This notebook sets up the foundational infrastructure for the Healthcare Adverse Event Prediction demo.\n",
    "\n",
    "## What We're Building\n",
    "- **Database**: `ADVERSE_EVENT_MONITORING` \n",
    "- **Schemas**: `FDA_FAERS`, `DEMO_ANALYTICS`, `ML_MODELS`\n",
    "- **Warehouse**: `ADVERSE_EVENT_WH` (auto-suspend enabled)\n",
    "\n",
    "## Prerequisites\n",
    "- Snowflake account with ML features enabled\n",
    "- Sufficient privileges to create databases and warehouses\n",
    "- ACCOUNTADMIN role or equivalent permissions\n",
    "- Running in Snowflake Notebooks environment\n"
   ]
  },
  {
   "cell_type": "code",
   "execution_count": null,
   "metadata": {},
   "outputs": [],
   "source": [
    "# Initialize Snowflake Session\n",
    "print(\"Initializing Snowflake session...\")\n",
    "\n",
    "# Import Snowpark session (available in Snowflake Notebooks)\n",
    "from snowflake.snowpark.context import get_active_session\n",
    "\n",
    "# Get the active Snowflake session\n",
    "session = get_active_session()\n",
    "\n",
    "print(\"SUCCESS: Snowflake session initialized!\")\n",
    "\n",
    "# Display current context information\n",
    "current_info = session.sql(\"\"\"\n",
    "    SELECT \n",
    "        CURRENT_ACCOUNT() as account,\n",
    "        CURRENT_USER() as user_name,\n",
    "        CURRENT_WAREHOUSE() as warehouse,\n",
    "        CURRENT_ROLE() as role,\n",
    "        CURRENT_DATABASE() as database,\n",
    "        CURRENT_SCHEMA() as schema,\n",
    "        CURRENT_VERSION() as version\n",
    "\"\"\").collect()[0]\n",
    "\n",
    "print(f\"   Account: {current_info['ACCOUNT']}\")\n",
    "print(f\"   User: {current_info['USER_NAME']}\")\n",
    "print(f\"   Warehouse: {current_info['WAREHOUSE']}\")\n",
    "print(f\"   Role: {current_info['ROLE']}\")\n",
    "print(f\"   Current Database: {current_info['DATABASE']}\")\n",
    "print(f\"   Current Schema: {current_info['SCHEMA']}\")\n",
    "print(f\"   Snowflake Version: {current_info['VERSION']}\")\n"
   ]
  },
  {
   "cell_type": "code",
   "execution_count": null,
   "metadata": {
    "vscode": {
     "languageId": "sql"
    }
   },
   "outputs": [],
   "source": [
    "# Setup Snowflake Environment for ML Demo\n",
    "print(\"Setting up Snowflake environment for ML demo...\")\n",
    "\n",
    "# Create the main database for our ML demo\n",
    "print(\"Creating database: ADVERSE_EVENT_MONITORING...\")\n",
    "session.sql(\"CREATE DATABASE IF NOT EXISTS ADVERSE_EVENT_MONITORING\").collect()\n",
    "session.sql(\"USE DATABASE ADVERSE_EVENT_MONITORING\").collect()\n",
    "\n",
    "# Create schemas for different data sources and purposes\n",
    "print(\"Creating schemas...\")\n",
    "session.sql(\"CREATE SCHEMA IF NOT EXISTS FDA_FAERS\").collect()\n",
    "session.sql(\"CREATE SCHEMA IF NOT EXISTS DEMO_ANALYTICS\").collect() \n",
    "session.sql(\"CREATE SCHEMA IF NOT EXISTS ML_MODELS\").collect()\n",
    "\n",
    "# Set context for initial data ingestion\n",
    "session.sql(\"USE SCHEMA FDA_FAERS\").collect()\n",
    "\n",
    "# Create warehouse for processing\n",
    "print(\"Creating warehouse: ADVERSE_EVENT_WH...\")\n",
    "session.sql(\"\"\"\n",
    "    CREATE WAREHOUSE IF NOT EXISTS ADVERSE_EVENT_WH WITH\n",
    "        WAREHOUSE_SIZE = 'MEDIUM'\n",
    "        AUTO_SUSPEND = 300\n",
    "        AUTO_RESUME = TRUE\n",
    "\"\"\").collect()\n",
    "\n",
    "session.sql(\"USE WAREHOUSE ADVERSE_EVENT_WH\").collect()\n",
    "\n",
    "print(\"SUCCESS: Environment setup complete!\")"
   ]
  },
  {
   "cell_type": "markdown",
   "metadata": {
    "vscode": {
     "languageId": "sql"
    }
   },
   "source": [
    "## Setup Complete!\n",
    "\n",
    "Your Snowflake environment is now ready for the ML demo:\n",
    "\n",
    "- **Database**: `ADVERSE_EVENT_MONITORING` created\n",
    "- **Schemas**: `FDA_FAERS`, `DEMO_ANALYTICS`, `ML_MODELS` ready\n",
    "- **Warehouse**: `ADVERSE_EVENT_WH` configured with auto-suspend\n",
    "\n",
    "## Next Steps\n",
    "1. Run the **02_FAERS_Data_Setup** notebook to create data structures\n",
    "2. Continue with **03_Analytics_Tables_Setup** to prepare analytics tables\n",
    "3. Proceed to **04_Feature_Engineering** for the ML pipeline\n",
    "\n",
    "## Note\n",
    "This notebook is now optimized for Snowflake Notebooks environment and ready to upload as an .ipynb file."
   ]
  }
 ],
 "metadata": {
  "kernelspec": {
   "display_name": "Python 3",
   "language": "python",
   "name": "python3"
  },
  "language_info": {
   "codemirror_mode": {
    "name": "ipython",
    "version": 3
   },
   "file_extension": ".py",
   "mimetype": "text/x-python",
   "name": "python",
   "nbconvert_exporter": "python",
   "pygments_lexer": "ipython3",
   "version": "3.9.23"
  }
 },
 "nbformat": 4,
 "nbformat_minor": 4
}
