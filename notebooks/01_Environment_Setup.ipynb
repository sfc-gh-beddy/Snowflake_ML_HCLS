{
 "cells": [
  {
   "cell_type": "markdown",
   "metadata": {
    "vscode": {
     "languageId": "plaintext"
    }
   },
   "source": [
    "# \ud83c\udfe5 Snowflake ML Demo: Environment Setup\n",
    "\n",
    "This notebook sets up the foundational infrastructure for the Healthcare Adverse Event Prediction demo.\n",
    "\n",
    "## \ud83c\udfaf What We're Building\n",
    "- **Database**: `ADVERSE_EVENT_MONITORING` \n",
    "- **Schemas**: `FDA_FAERS`, `DEMO_ANALYTICS`, `ML_MODELS`\n",
    "- **Warehouse**: `ADVERSE_EVENT_WH` (auto-suspend enabled)\n",
    "\n",
    "## \ud83d\udccb Prerequisites\n",
    "- Snowflake account with ML features enabled\n",
    "- Sufficient privileges to create databases and warehouses\n",
    "- ACCOUNTADMIN role or equivalent permissions\n"
   ]
  },
  {
   "cell_type": "code",
   "execution_count": null,
   "metadata": {},
   "outputs": [],
   "source": [
    "# \ud83d\udd17 Establish Snowflake Connection\n",
    "print(\"\ud83d\udd17 Connecting to Snowflake...\")\n",
    "\n",
    "# Import required libraries\n",
    "from snowflake_connection import get_session\n",
    "import os\n",
    "from dotenv import load_dotenv\n",
    "\n",
    "# Load environment variables\n",
    "load_dotenv()\n",
    "\n",
    "# Create Snowpark session\n",
    "session = get_session()\n",
    "\n",
    "if session:\n",
    "    print(\"\u2705 Connected to Snowflake successfully!\")\n",
    "    print(f\"   Account: {os.getenv('SNOWFLAKE_ACCOUNT')}\")\n",
    "    print(f\"   User: {os.getenv('SNOWFLAKE_USER')}\")\n",
    "    print(f\"   Warehouse: {os.getenv('SNOWFLAKE_WAREHOUSE')}\")\n",
    "    print(f\"   Role: {os.getenv('SNOWFLAKE_ROLE')}\")\n",
    "    \n",
    "    # Test the connection\n",
    "    result = session.sql(\"SELECT CURRENT_VERSION()\").collect()\n",
    "    print(f\"   Snowflake Version: {result[0][0]}\")\n",
    "else:\n",
    "    print(\"\u274c Failed to connect to Snowflake!\")\n",
    "    print(\"   Please check your .env file configuration\")\n",
    "    raise Exception(\"Snowflake connection failed\")\n"
   ]
  },
  {
   "cell_type": "code",
   "execution_count": null,
   "metadata": {
    "vscode": {
     "languageId": "sql"
    }
   },
   "outputs": [],
   "source": [
    "# --- Setup Snowflake Environment for ML Demo ---\n",
    "print(\"\ud83c\udfd7\ufe0f Setting up Snowflake environment for ML demo...\")\n",
    "\n",
    "# Create the main database for our ML demo\n",
    "print(\"\ud83d\udcca Creating database: ADVERSE_EVENT_MONITORING...\")\n",
    "session.sql(\"CREATE DATABASE IF NOT EXISTS ADVERSE_EVENT_MONITORING\").collect()\n",
    "session.sql(\"USE DATABASE ADVERSE_EVENT_MONITORING\").collect()\n",
    "\n",
    "# Create schemas for different data sources and purposes\n",
    "print(\"\ud83d\udcc1 Creating schemas...\")\n",
    "session.sql(\"CREATE SCHEMA IF NOT EXISTS FDA_FAERS\").collect()\n",
    "session.sql(\"CREATE SCHEMA IF NOT EXISTS DEMO_ANALYTICS\").collect() \n",
    "session.sql(\"CREATE SCHEMA IF NOT EXISTS ML_MODELS\").collect()\n",
    "\n",
    "# Set context for initial data ingestion\n",
    "session.sql(\"USE SCHEMA FDA_FAERS\").collect()\n",
    "\n",
    "# Create warehouse for processing\n",
    "print(\"\u26a1 Creating warehouse: ADVERSE_EVENT_WH...\")\n",
    "session.sql(\"\"\"\n",
    "    CREATE WAREHOUSE IF NOT EXISTS ADVERSE_EVENT_WH WITH\n",
    "        WAREHOUSE_SIZE = 'MEDIUM'\n",
    "        AUTO_SUSPEND = 300\n",
    "        AUTO_RESUME = TRUE\n",
    "\"\"\").collect()\n",
    "\n",
    "session.sql(\"USE WAREHOUSE ADVERSE_EVENT_WH\").collect()\n",
    "\n",
    "print(\"\u2705 Environment setup complete!\")\n",
    "print(\"\ud83d\udcca Database: ADVERSE_EVENT_MONITORING\")\n",
    "print(\"\ud83d\udcc1 Schemas: FDA_FAERS, DEMO_ANALYTICS, ML_MODELS\") \n",
    "print(\"\u26a1 Warehouse: ADVERSE_EVENT_WH\")"
   ]
  },
  {
   "cell_type": "markdown",
   "metadata": {
    "vscode": {
     "languageId": "sql"
    }
   },
   "source": [
    "## \u2705 Setup Complete!\n",
    "\n",
    "Your Snowflake environment is now ready for the ML demo:\n",
    "\n",
    "- \u2705 **Database**: `ADVERSE_EVENT_MONITORING` created\n",
    "- \u2705 **Schemas**: `FDA_FAERS`, `DEMO_ANALYTICS`, `ML_MODELS` ready\n",
    "- \u2705 **Warehouse**: `ADVERSE_EVENT_WH` configured with auto-suspend\n",
    "\n",
    "## \ud83d\udccb Next Steps\n",
    "1. Run the **02_FAERS_Data_Setup** notebook to create data structures\n",
    "2. Continue with **03_Feature_Engineering** for the ML pipeline\n",
    "\n",
    "---\n",
    "*This completes the foundational setup for our Healthcare Adverse Event Prediction demo.*\n"
   ]
  }
 ],
 "metadata": {
  "kernelspec": {
   "display_name": "Python 3",
   "language": "python",
   "name": "python3"
  },
  "language_info": {
   "codemirror_mode": {
    "name": "ipython",
    "version": 3
   },
   "file_extension": ".py",
   "mimetype": "text/x-python",
   "name": "python",
   "nbconvert_exporter": "python",
   "pygments_lexer": "ipython3",
   "version": "3.9.23"
  }
 },
 "nbformat": 4,
 "nbformat_minor": 4
}